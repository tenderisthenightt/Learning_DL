{
 "cells": [
  {
   "cell_type": "code",
   "execution_count": 1,
   "metadata": {},
   "outputs": [],
   "source": [
    "from selenium import webdriver\n",
    "# 웹 크롤링 할 때 드라이브를 써야함\n",
    "from selenium.webdriver.common.keys import Keys\n",
    "\n",
    "# 웹 언어를 파이썬에서 처리할 수 있게 하는 것\n",
    "from bs4 import BeautifulSoup\n",
    "# 프로그램이 웹을 전부 읽기전에 다른 작업이 시행되는 것을 방지하기 위해\n",
    "from time import sleep\n",
    "\n",
    "# 바로 다운받기 위해 쓰는 정적크롤링\n",
    "# 정적크롤링 방식으로 url이 제공됐을때 바로 연결해주기 위한 것\n",
    "import requests\n",
    "import re\n",
    "import pandas as pd\n",
    "import numpy as np\n",
    "import os\n",
    "\n",
    "from selenium.webdriver.common.keys import Keys\n",
    "\n",
    "# 오류 발생시 오작동 방지 코드\n",
    "import warnings\n",
    "warnings.filterwarnings('ignore')"
   ]
  },
  {
   "cell_type": "markdown",
   "metadata": {},
   "source": []
  },
  {
   "cell_type": "code",
   "execution_count": 7,
   "metadata": {},
   "outputs": [],
   "source": [
    "name=['LG 에어로타워']\n",
    "category=['별점']\n",
    "\n",
    "# LG 에어로타워 후기\n",
    "# 서칭하려는 페이지 링크를 여기에 담는다(미리 저장)(나중에 번거로워서)\n",
    "ns_address=\"https://search.shopping.naver.com/catalog/30128278618?cat_id=50002543&frm=NVSCPRO&query=%EC%97%90%EC%96%B4%EB%A1%9C%ED%83%80%EC%9B%8C&NaPm=ct%3Dl0ksn0vc%7Cci%3D5bbd25c0299ce5dbcb72ff2b1d41488ebd6d52ce%7Ctr%3Dsls%7Csn%3D95694%7Chk%3D87194ce8ced4cb2b52968022b8eb9db67602d12e\"\n",
    "\n",
    "# 페이지에서 F12 마우스아이콘으로 원하는 부분 찾아서 copy full xpath\n",
    "#xpath\n",
    "#shoppingmall_review =\"/html/body/div/div/div[2]/div[2]/div[2]/div[3]/div[6]/ul\"\n",
    "#shoppingmall_review = \"/html/body/div/div/div[2]/div[2]/div[2]/div[3]/div[2]/div/div[2]/ul/li[5]/a/strong\"\n",
    "shoppingmall_review = \"/html/body/div/div/div[2]/div[2]/div[2]/div[3]/div[6]/div[2]/div[2]/div/ul/li[4]/a\"\n",
    "# 이부분 나중에 다시 보여달라하기"
   ]
  },
  {
   "cell_type": "code",
   "execution_count": 8,
   "metadata": {},
   "outputs": [
    {
     "name": "stdout",
     "output_type": "stream",
     "text": [
      "가격\n",
      "주제전체\n",
      "만족도\n",
      "디자인\n",
      "가격\n",
      "기능\n",
      "소음\n",
      "성능\n",
      "사용성\n",
      "색상\n",
      "조작성\n",
      "난방효과\n",
      "관리\n",
      "이동성\n"
     ]
    }
   ],
   "source": [
    "header = {'User-Agent': ''}\n",
    "\n",
    "# 제어하려면 무조건 설치해야하는데 위치는 항상 c드라이브에, 내 크롬과 이 드라이버의 버전이 같(비슷)해야한다\n",
    "d = webdriver.Chrome('chromedriver.exe') # webdriver = chrome\n",
    "# 열엇을때 사이트 안에 잇는 요소들이 나올때까지 기다리는거 (1초 기다리게함)\n",
    "d.implicitly_wait(1) #隐形等待， 加载完后进入， 没加载完报错超市\n",
    "# 여기서부터 가져오는 것(위에서 주소를 담아놨음)\n",
    "d.get(ns_address)\n",
    "\n",
    "# html자체를 텍스트로 다 가져와서 변수에 담는 작업같음(어느코드를 봐도 동일하게 쓰이는 두 줄)\n",
    "req = requests.get(ns_address,verify=False)\n",
    "html = req.text \n",
    "\n",
    "# 아까 텍스트화(문서화)해서 담아놓은걸가지고 필요한부분을 가져온다\n",
    "# 셀레니움은 웹에 잇는걸 다 긁어오는 기능\n",
    "# 뷰티풀숲은 필요한걸 가져오는 것\n",
    "soup = BeautifulSoup(html, \"html.parser\")\n",
    "# 뭔가 띄워줘야할때 sleep쓴다 생각하면 됨(멘토님은 보통 3초 설정)\n",
    "sleep(2)\n",
    "\n",
    "#쇼핑몰 리뷰 보기\n",
    "# 다른 페이지에서 긁어왓는데 오류가 나면 보통 이 부분이 오류임\n",
    "# 오래된 코드라 작동안하는듯(크롤링 막기위해서 정기적으로 코드를 조금씩 바꾼대, 크롤링하려면 정기적으로 확인하고 고치는 작업이 필요하다고..)\n",
    "# 해당페이지로 가보면 필수적으로 눌러야할 부분이 '가격' 버튼뿐임(xpath) 나머지는 하나의 긴 페이지라 눌러서 이동할 필요가 없음\n",
    "d.find_element(\"xpath\",shoppingmall_review).click()\n",
    "sleep(2)\n",
    "\n",
    "# element = d.find_element(\"xpath\",shoppingmall_review)\n",
    "# d.execute_script(\"arguments[0].click();\", element)\n",
    "# sleep(2)\n",
    "\n",
    "# 위의 d.find_element(\"xpath\",shoppingmall_review).click() 코드와 똑같고 텍스트로 가져오라는 명령\n",
    "# 부모태그를 찾으면 가격탭뿐만 아니라 모든 탭요소를 가져올 수 있음(F12 마우스를 움직여보면 보임)\n",
    "test_Text = d.find_element(\"xpath\",shoppingmall_review).text\n",
    "print(test_Text)\n",
    "\n",
    "df = pd.DataFrame()\n",
    "\n",
    "# 가져온걸 담음\n",
    "test_Text = d.find_element(\"xpath\", '/html/body/div/div/div[2]/div[2]/div[2]/div[3]/div[6]/div[2]/div[2]/div/ul').text\n",
    "df = test_Text\n",
    "print(df)"
   ]
  },
  {
   "cell_type": "code",
   "execution_count": 9,
   "metadata": {},
   "outputs": [],
   "source": [
    "# 데이터프레임으로 만들기\n",
    "# 위에 보기에는 엔터쳐진것같이 보이지만 사실 한줄로 붙어잇기 때문에 개행작업을 해준다\n",
    "a = df.split('\\n')\n",
    "b = pd.DataFrame(a, columns=['이름']).set_index('이름')"
   ]
  },
  {
   "cell_type": "code",
   "execution_count": null,
   "metadata": {},
   "outputs": [],
   "source": [
    "b.to_csv('./b.csv', encoding='utf-8-sig')\n",
    "# 그냥 하면 한글 백프로 깨져서 인코딩작업을 해줘야 된다"
   ]
  }
 ],
 "metadata": {
  "kernelspec": {
   "display_name": "Python 3 (ipykernel)",
   "language": "python",
   "name": "python3"
  },
  "language_info": {
   "codemirror_mode": {
    "name": "ipython",
    "version": 3
   },
   "file_extension": ".py",
   "mimetype": "text/x-python",
   "name": "python",
   "nbconvert_exporter": "python",
   "pygments_lexer": "ipython3",
   "version": "3.9.7"
  },
  "toc": {
   "base_numbering": 1,
   "nav_menu": {},
   "number_sections": true,
   "sideBar": true,
   "skip_h1_title": false,
   "title_cell": "Table of Contents",
   "title_sidebar": "Contents",
   "toc_cell": false,
   "toc_position": {},
   "toc_section_display": true,
   "toc_window_display": false
  },
  "vscode": {
   "interpreter": {
    "hash": "e4cce46d6be9934fbd27f9ca0432556941ea5bdf741d4f4d64c6cd7f8dfa8fba"
   }
  }
 },
 "nbformat": 4,
 "nbformat_minor": 2
}
